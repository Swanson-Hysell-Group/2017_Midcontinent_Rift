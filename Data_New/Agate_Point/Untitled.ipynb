{
 "cells": [
  {
   "cell_type": "code",
   "execution_count": 9,
   "metadata": {
    "collapsed": false
   },
   "outputs": [
    {
     "name": "stderr",
     "output_type": "stream",
     "text": [
      "/Users/Laurentia/anaconda/envs/python2/lib/python2.7/site-packages/matplotlib/font_manager.py:273: UserWarning: Matplotlib is building the font cache using fc-list. This may take a moment.\n",
      "  warnings.warn('Matplotlib is building the font cache using fc-list. This may take a moment.')\n"
     ]
    }
   ],
   "source": [
    "import pmagpy.pmag as pmag\n",
    "import pmagpy.ipmag as ipmag"
   ]
  },
  {
   "cell_type": "code",
   "execution_count": 2,
   "metadata": {
    "collapsed": false
   },
   "outputs": [
    {
     "name": "stdout",
     "output_type": "stream",
     "text": [
      "\u001b[34mAgate_Point_Strat\u001b[m\u001b[m/   \u001b[34mDataModel2_3\u001b[m\u001b[m/        \u001b[34mstructural_analysis\u001b[m\u001b[m/\r\n",
      "\u001b[34mCIT_format\u001b[m\u001b[m/          Untitled.ipynb\r\n"
     ]
    }
   ],
   "source": [
    "ls"
   ]
  },
  {
   "cell_type": "code",
   "execution_count": 3,
   "metadata": {
    "collapsed": false
   },
   "outputs": [
    {
     "name": "stdout",
     "output_type": "stream",
     "text": [
      "/Users/Laurentia/Library/Enthought/Canopy_64bit/User/lib/python2.7/site-packages/matplotlib/font_manager.py:273: UserWarning: Matplotlib is building the font cache using fc-list. This may take a moment.\n",
      "  warnings.warn('Matplotlib is building the font cache using fc-list. This may take a moment.')\n",
      "\n",
      "    NAME\n",
      "        cit_magic.py\n",
      "\n",
      "    DESCRIPTION\n",
      "        converts CIT and .sam  format files to magic_measurements format files\n",
      "\n",
      "    SYNTAX\n",
      "        cit_magic.py [command line options]\n",
      "\n",
      "    OPTIONS\n",
      "        -h: prints the help message and quits.\n",
      "        -usr USER:   identify user, default is \"\"\n",
      "        -f FILE: specify .sam format input file, required\n",
      "        -fsi SITEFILE : specify file with site names and locations [tab delimited magic file]\n",
      "        -F FILE: specify output  measurements file, default is magic_measurements.txt\n",
      "        -Fsp FILE: specify output er_specimens.txt file, default is er_specimens.txt\n",
      "        -Fsi FILE: specify output er_sites.txt file, default is er_sites.txt\n",
      "        -Fsa FILE: specify output er_samples.txt file, default is er_samples.txt  # LORI\n",
      "        -n [gm,kg,cc,m3]: specify normalization\n",
      "        -A: don't average replicate measurements\n",
      "        -spc NUM : specify number of characters to designate a  specimen, default = 0\n",
      "        -ncn NCON: specify naming convention\n",
      "        -loc LOCNAME : specify location/study name, must have either LOCNAME or SITEFILE or be a synthetic\n",
      "        -mcd [FS-FD:SO-MAG,.....] colon delimited list for method codes applied to all specimens in .sam file\n",
      "        -dc (B, PHI, THETA): dc lab field (in microTesla), phi,and theta must be input as a tuple \"(DC,PHI,THETA)\". If not input user will be asked for values, this is advantagious if there are differing dc fields between steps or specimens. Note: this currently only works with the decimal IZZI naming convetion (XXX.0,1,2 where XXX is the treatment temperature and 0 is a zero field step, 1 is in field, and 2 is a PTRM check). For some reason all other steps are hardcoded dc_field = 0.\n",
      "        -ac B : peak AF field (in mT) for ARM acquisition, default is none\n",
      "        -dm: specify which magic data model you want your output in 3.0 or 2.5 default is 3.0\n",
      "\n",
      "    INPUT\n",
      "        Best to put separate experiments (all AF, thermal, thellier, trm aquisition, Shaw, etc.)\n",
      "\n",
      "    NOTES:\n",
      "         Sample naming convention:\n",
      "        [1] XXXXY: where XXXX is an arbitrary length site designation and Y\n",
      "            is the single character sample designation.  e.g., TG001a is the\n",
      "            first sample from site TG001.    [default]\n",
      "        [2] XXXX-YY: YY sample from site XXXX (XXX, YY of arbitary length)\n",
      "        [3] XXXX.YY: YY sample from site XXXX (XXX, YY of arbitary length)\n",
      "        [4-Z] XXXX[YYY]:  YYY is sample designation with Z characters from site XXX\n",
      "        [5] site name = sample name\n",
      "        [6] site name entered in site_name column in the orient.txt format input file  -- NOT CURRENTLY SUPPORTED\n",
      "        [7-Z] [XXX]YYY:  XXX is site designation with Z characters from samples  XXXYYY\n",
      "        NB: all others you will have to either customize your\n",
      "            self or e-mail ltauxe@ucsd.edu for help.\n",
      "    \n"
     ]
    }
   ],
   "source": [
    "!cit_magic3.py -h"
   ]
  },
  {
   "cell_type": "code",
   "execution_count": 1,
   "metadata": {
    "collapsed": false
   },
   "outputs": [
    {
     "name": "stdout",
     "output_type": "stream",
     "text": [
      "/Users/Laurentia/Library/Enthought/Canopy_64bit/User/lib/python2.7/site-packages/matplotlib/font_manager.py:273: UserWarning: Matplotlib is building the font cache using fc-list. This may take a moment.\n",
      "  warnings.warn('Matplotlib is building the font cache using fc-list. This may take a moment.')\n",
      "('bad sam file name: ', './CIT_format/AP1-/./CIT_format/AP1-/AP1-.sam')\n"
     ]
    }
   ],
   "source": [
    "!cit_magic3.py -f ./CIT_format/AP1-/AP1-.sam -loc 'Agate Point' -A -spc 1 -ncn 3"
   ]
  },
  {
   "cell_type": "code",
   "execution_count": 3,
   "metadata": {
    "collapsed": false
   },
   "outputs": [
    {
     "name": "stdout",
     "output_type": "stream",
     "text": [
      "/Users/Laurentia/0000_Github/Keweenawan_Track/Data_New/Paleomagnetism/CIT_format/AP1-\n"
     ]
    }
   ],
   "source": [
    "cd CIT_format/AP1-/"
   ]
  },
  {
   "cell_type": "code",
   "execution_count": 5,
   "metadata": {
    "collapsed": false
   },
   "outputs": [
    {
     "name": "stdout",
     "output_type": "stream",
     "text": [
      "/Users/Laurentia/Library/Enthought/Canopy_64bit/User/lib/python2.7/site-packages/matplotlib/font_manager.py:273: UserWarning: Matplotlib is building the font cache using fc-list. This may take a moment.\n",
      "  warnings.warn('Matplotlib is building the font cache using fc-list. This may take a moment.')\n",
      "AP1-\n",
      "\n",
      "Traceback (most recent call last):\n",
      "  File \"/Users/Laurentia/PmagPy/programs/cit_magic3.py\", line 451, in <module>\n",
      "    main()\n",
      "  File \"/Users/Laurentia/PmagPy/programs/cit_magic3.py\", line 244, in main\n",
      "    f=open(input_dir_path+'/'+specimen,'rU')\n",
      "IOError: [Errno 2] No such file or directory: '/AP1-1a'\n"
     ]
    }
   ],
   "source": [
    "!cit_magic3.py -f AP1-.sam -loc 'Agate Point' -A -spc 1 -ncn 3"
   ]
  },
  {
   "cell_type": "code",
   "execution_count": 10,
   "metadata": {
    "collapsed": false
   },
   "outputs": [
    {
     "data": {
      "text/plain": [
       "u'/Users/Laurentia/0000_Github/Keweenawan_Track/Data_New/Paleomagnetism/CIT_format'"
      ]
     },
     "execution_count": 10,
     "metadata": {},
     "output_type": "execute_result"
    }
   ],
   "source": [
    "pwd"
   ]
  },
  {
   "cell_type": "code",
   "execution_count": 7,
   "metadata": {
    "collapsed": false
   },
   "outputs": [
    {
     "name": "stdout",
     "output_type": "stream",
     "text": [
      "/Users/Laurentia/0000_Github/Keweenawan_Track/Data_New/Paleomagnetism/CIT_format\n"
     ]
    }
   ],
   "source": [
    "cd .."
   ]
  },
  {
   "cell_type": "code",
   "execution_count": 8,
   "metadata": {
    "collapsed": false
   },
   "outputs": [
    {
     "name": "stdout",
     "output_type": "stream",
     "text": [
      "\u001b[34mAP1-\u001b[m\u001b[m/  \u001b[34mAP2-\u001b[m\u001b[m/  \u001b[34mAP3-\u001b[m\u001b[m/  \u001b[34mAP4-\u001b[m\u001b[m/  \u001b[34mAP5-\u001b[m\u001b[m/  \u001b[34mAP6-\u001b[m\u001b[m/  \u001b[34mPuf1-\u001b[m\u001b[m/ \u001b[34mPuf2-\u001b[m\u001b[m/\r\n"
     ]
    }
   ],
   "source": [
    "ls"
   ]
  },
  {
   "cell_type": "code",
   "execution_count": 11,
   "metadata": {
    "collapsed": false
   },
   "outputs": [
    {
     "ename": "SyntaxError",
     "evalue": "invalid syntax (<ipython-input-11-9f07c5a3b7b9>, line 1)",
     "output_type": "error",
     "traceback": [
      "\u001b[0;36m  File \u001b[0;32m\"<ipython-input-11-9f07c5a3b7b9>\"\u001b[0;36m, line \u001b[0;32m1\u001b[0m\n\u001b[0;31m    Users(/Laurentia/0000_Github/Keweenawan_Track/Data_New/Paleomagnetism/CIT_format/AP2-/locations.txt)\u001b[0m\n\u001b[0m          ^\u001b[0m\n\u001b[0;31mSyntaxError\u001b[0m\u001b[0;31m:\u001b[0m invalid syntax\n"
     ]
    }
   ],
   "source": [
    "/Users/Laurentia/0000_Github/Keweenawan_Track/Data_New/Paleomagnetism/CIT_format/AP2-/locations.txt\n",
    "\n"
   ]
  },
  {
   "cell_type": "code",
   "execution_count": null,
   "metadata": {
    "collapsed": true
   },
   "outputs": [],
   "source": []
  }
 ],
 "metadata": {
  "kernelspec": {
   "display_name": "Python 2",
   "language": "python",
   "name": "python2"
  },
  "language_info": {
   "codemirror_mode": {
    "name": "ipython",
    "version": 2
   },
   "file_extension": ".py",
   "mimetype": "text/x-python",
   "name": "python",
   "nbconvert_exporter": "python",
   "pygments_lexer": "ipython2",
   "version": "2.7.12"
  }
 },
 "nbformat": 4,
 "nbformat_minor": 0
}
