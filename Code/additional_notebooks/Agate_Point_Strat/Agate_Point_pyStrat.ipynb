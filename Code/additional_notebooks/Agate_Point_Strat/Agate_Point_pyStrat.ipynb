{
 "cells": [
  {
   "cell_type": "code",
   "execution_count": 1,
   "metadata": {
    "collapsed": true
   },
   "outputs": [],
   "source": [
    "import matplotlib.pyplot as plt\n",
    "import matplotlib.patches as patches\n",
    "import pandas as pd\n",
    "import numpy as np\n",
    "% matplotlib inline"
   ]
  },
  {
   "cell_type": "code",
   "execution_count": 2,
   "metadata": {
    "collapsed": true
   },
   "outputs": [],
   "source": [
    "from pyStrat import read_data\n",
    "from pyStrat import read_formatting\n",
    "from pyStrat import integrity_check\n",
    "from pyStrat import initiate_figure\n",
    "from pyStrat import add_data_axis"
   ]
  },
  {
   "cell_type": "code",
   "execution_count": 3,
   "metadata": {
    "collapsed": true
   },
   "outputs": [],
   "source": [
    "data = read_data('Agate_Point.csv')\n",
    "formatting = read_formatting('AP_formatting.csv')"
   ]
  },
  {
   "cell_type": "code",
   "execution_count": 4,
   "metadata": {
    "collapsed": false
   },
   "outputs": [
    {
     "ename": "SyntaxError",
     "evalue": "invalid syntax (<ipython-input-4-25a219bf387c>, line 2)",
     "output_type": "error",
     "traceback": [
      "\u001b[0;36m  File \u001b[0;32m\"<ipython-input-4-25a219bf387c>\"\u001b[0;36m, line \u001b[0;32m2\u001b[0m\n\u001b[0;31m    data_file.ix[data_file['GRAIN_SIZE']==]\u001b[0m\n\u001b[0m                                          ^\u001b[0m\n\u001b[0;31mSyntaxError\u001b[0m\u001b[0;31m:\u001b[0m invalid syntax\n"
     ]
    }
   ],
   "source": [
    "def map_colour(data_file, format_file):\n",
    "    data_file.ix[data_file['GRAIN_SIZE']==]"
   ]
  },
  {
   "cell_type": "code",
   "execution_count": 5,
   "metadata": {
    "collapsed": true
   },
   "outputs": [],
   "source": [
    "colour_dict = {}\n",
    "for i in formatting.GRAIN_SIZE.tolist():\n",
    "    colour_dict[i] = formatting.ix[formatting['GRAIN_SIZE']==i]['COLOUR'].tolist()[0]"
   ]
  },
  {
   "cell_type": "code",
   "execution_count": 6,
   "metadata": {
    "collapsed": false
   },
   "outputs": [
    {
     "data": {
      "text/plain": [
       "{'agglom': 'purple-green',\n",
       " 'cover': 'cover',\n",
       " 'dacite': 'grey',\n",
       " 'di': 'orange',\n",
       " 'fss': 'sill',\n",
       " 'm': 'black',\n",
       " 'mv': 'green',\n",
       " 'obsedian': 'swatch',\n",
       " 'rhyolite': 'brick red',\n",
       " 'ri': nan,\n",
       " 'sill': 'brick red-green',\n",
       " 'slt': 'beige',\n",
       " 'tuff': 'tuff',\n",
       " 'v': 'purple'}"
      ]
     },
     "execution_count": 6,
     "metadata": {},
     "output_type": "execute_result"
    }
   ],
   "source": [
    "colour_dict"
   ]
  },
  {
   "cell_type": "code",
   "execution_count": 7,
   "metadata": {
    "collapsed": false
   },
   "outputs": [],
   "source": [
    "for i in range(len(data)):\n",
    "    data.set_value(i, 'COLOUR', colour_dict[data['GRAIN_SIZE'][i]])\n",
    "#     data['COLOUR'][i] = colour_dict[data['GRAIN_SIZE'][i]]"
   ]
  },
  {
   "cell_type": "code",
   "execution_count": 8,
   "metadata": {
    "collapsed": false
   },
   "outputs": [],
   "source": [
    "# data.drop([64,65], inplace=True)\n",
    "# data.reset_index(drop=True, inplace=True)"
   ]
  },
  {
   "cell_type": "code",
   "execution_count": 9,
   "metadata": {
    "collapsed": false
   },
   "outputs": [
    {
     "name": "stdout",
     "output_type": "stream",
     "text": [
      "Colour and width check passed.\n"
     ]
    }
   ],
   "source": [
    "integrity_check(data, formatting)"
   ]
  },
  {
   "cell_type": "code",
   "execution_count": 10,
   "metadata": {
    "collapsed": false
   },
   "outputs": [
    {
     "data": {
      "text/plain": [
       "0.29999999999999999"
      ]
     },
     "execution_count": 10,
     "metadata": {},
     "output_type": "execute_result"
    }
   ],
   "source": [
    "data.THICKNESS[1]"
   ]
  },
  {
   "cell_type": "code",
   "execution_count": 11,
   "metadata": {
    "collapsed": false
   },
   "outputs": [],
   "source": [
    "data.THICKNESS = data.THICKNESS.apply(pd.to_numeric)"
   ]
  },
  {
   "cell_type": "code",
   "execution_count": 12,
   "metadata": {
    "collapsed": false
   },
   "outputs": [
    {
     "data": {
      "image/png": "[encoded data removed]",
      "text/plain": [
       "<matplotlib.figure.Figure at 0x111f20048>"
      ]
     },
     "metadata": {},
     "output_type": "display_data"
    }
   ],
   "source": [
    "# the backbone of the plot\n",
    "strat_ratio = 0.03\n",
    "figwidth = 7\n",
    "width_ratios = [1,2]#,1,1,1,2,2,2]\n",
    "fig, axs = initiate_figure(data, formatting, strat_ratio, figwidth, width_ratios)\n",
    "\n",
    "# additional data axes\n",
    "# note that the added data axes can pull data from anywhere - they do not have to come from the data.csv\n",
    "# add_data_axis(fig, axs, 1, np.zeros(len(data['ASH_HEIGHT'])), data['ASH_HEIGHT'], 'scatter', color='red')\n",
    "# add_data_axis(fig, axs, 2, np.zeros(len(data['DZ_HEIGHT'])), data['DZ_HEIGHT'], 'scatter', color='green')\n",
    "# add_data_axis(fig, axs, 3, np.zeros(len(data['PM_HEIGHT'])), data['PM_HEIGHT'], 'scatter', color='blue')\n",
    "# add_data_axis(fig, axs, 4, data['CHEM_d13C'], data['CHEM_HEIGHT'], 'scatter')\n",
    "# add_data_axis(fig, axs, 5, data['CHEM_d18O'], data['CHEM_HEIGHT'], 'plot')\n",
    "# add_data_axis(fig, axs, 6, data['CHEM_87Sr/86Sr'], data['CHEM_HEIGHT'], 'scatter')\n",
    "\n",
    "# for now make style changes using the axis handles, in the standard matplotlib manner\n",
    "# axs[1].set_xticks([])\n",
    "# axs[1].set_title('ash')\n",
    "\n",
    "# axs[2].set_xticks([])\n",
    "# axs[2].set_title('DZ')\n",
    "\n",
    "# axs[3].set_xticks([])\n",
    "# axs[3].set_title('PM')\n",
    "\n",
    "# axs[4].set_xlabel('$\\delta^{13}$C')\n",
    "\n",
    "# axs[5].set_xlabel('$\\delta^{18}$O')\n",
    "\n",
    "# axs[6].set_xlabel('$^{87}$Sr/$^{86}$Sr')\n",
    "\n",
    "for i in range(1,len(axs)):\n",
    "    for tick in axs[i].xaxis.get_major_ticks():\n",
    "        tick.label.set_fontsize(7)\n",
    "              \n",
    "plt.savefig('AP_strat.pdf')\n",
    "\n",
    "plt.show(fig)"
   ]
  },
  {
   "cell_type": "code",
   "execution_count": null,
   "metadata": {
    "collapsed": true
   },
   "outputs": [],
   "source": []
  }
 ],
 "metadata": {
  "anaconda-cloud": {},
  "hide_input": false,
  "kernelspec": {
   "display_name": "Python [default]",
   "language": "python",
   "name": "python3"
  },
  "language_info": {
   "codemirror_mode": {
    "name": "ipython",
    "version": 3
   },
   "file_extension": ".py",
   "mimetype": "text/x-python",
   "name": "python",
   "nbconvert_exporter": "python",
   "pygments_lexer": "ipython3",
   "version": "3.5.2"
  },
  "nav_menu": {},
  "toc": {
   "navigate_menu": true,
   "number_sections": false,
   "sideBar": true,
   "threshold": 6,
   "toc_cell": false,
   "toc_section_display": "block",
   "toc_window_display": false
  }
 },
 "nbformat": 4,
 "nbformat_minor": 1
}
